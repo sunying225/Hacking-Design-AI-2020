{
 "cells": [
  {
   "cell_type": "code",
   "execution_count": null,
   "metadata": {},
   "outputs": [],
   "source": [
    "import jieba\n",
    "import urllib\n",
    "import re\n",
    "import sys\n",
    "import requests\n",
    "from PIL import Image, ImageDraw,ImageFont\n",
    "import numpy as np"
   ]
  },
  {
   "cell_type": "code",
   "execution_count": null,
   "metadata": {
    "tags": []
   },
   "outputs": [],
   "source": [
    "# 找关键词\n",
    "def getKeyword(text):\n",
    "    tags = jieba.analyse.extract_tags(text,topK=5)\n",
    "    print('TF-IDF关键词提取结果：'+'、'.join(tags))\n",
    "    # tags = jieba.analyse.textrank(text,topK=6)\n",
    "    # print('TextRank关键词提取结果：'+'、'.join(tags))\n",
    "    return tags"
   ]
  },
  {
   "cell_type": "code",
   "execution_count": null,
   "metadata": {
    "tags": []
   },
   "outputs": [],
   "source": [
    "# 获得对应图片\n",
    "def getPage(keyword):\n",
    "    keyword = urllib.parse.quote(keyword, safe='/')\n",
    "    url_begin = \"http://image.baidu.com/search/flip?tn=baiduimage&ie=utf-8&word=\"\n",
    "    url = url_begin+ keyword + \"&pn=0&gsm=78&ct=&ic=0&lm=-1&width=0&height=0\"\n",
    "    print(url)\n",
    "    return url\n",
    " \n",
    "# 找到图片地址\n",
    "def get_onepage_urls(onepageurl):\n",
    "    try:\n",
    "        html = requests.get(onepageurl).text\n",
    "    except Exception as e:\n",
    "        print(e)\n",
    "        pic_urls = []\n",
    "        return pic_urls\n",
    "    pic_urls = re.findall('\"objURL\":\"(.*?)\",', html, re.S)\n",
    "    # 取所有图片中的第一张\n",
    "    print(pic_urls[1])\n",
    "    return pic_urls[1] \n",
    " \n",
    "# 下载图片\n",
    "def getImg(imgurl,name):\n",
    "    filePath = \"images/\"\n",
    "    if not os.path.exists(filePath):\n",
    "        os.makedirs(filePath)\n",
    "    try:\n",
    "        urllib.request.urlretrieve(imgurl,'./images/'+name+'.jpg')\n",
    "        print('图片 '+name+' 下载完成')\n",
    "    except Exception as e:\n",
    "        print('图片 '+name+' 下载失败')\n",
    "\n"
   ]
  },
  {
   "cell_type": "code",
   "execution_count": null,
   "metadata": {
    "tags": []
   },
   "outputs": [],
   "source": [
    "# 图片手绘风格\n",
    "def changeStyle(keyword):\n",
    "    img = 'images/' + keyword + '.jpg'\n",
    "    a = np.asarray(Image.open(img).convert('L')).astype('float')\n",
    "    \n",
    "    depth = 10.                    \n",
    "    grad = np.gradient(a)                  #梯度值，   \n",
    "    grad_x, grad_y = grad          \n",
    "    grad_x = grad_x*depth/100.       #列梯度值*0.1\n",
    "    grad_y = grad_y*depth/100.\n",
    "    \n",
    "    A = np.sqrt(grad_x**2 + grad_y**2 + 1.)  #相当于grad_z=1\n",
    "    uni_x = grad_x/A\n",
    "    uni_y = grad_y/A\n",
    "    uni_z = 1./A          #梯度归一化\n",
    "    \n",
    "    vec_el = np.pi/2.2             \n",
    "    vec_az = np.pi/4.\n",
    "                    \n",
    "    dx = np.cos(vec_el)*np.cos(vec_az)\n",
    "    dy = np.cos(vec_el)*np.sin(vec_az) \n",
    "    dz = np.sin(vec_el)             #长度为1，投影x,y,z长度\n",
    "    \n",
    "    b = 255*(dx*uni_x + dy*uni_y + dz*uni_z)\n",
    "    b = b.clip(0,255)\n",
    "    \n",
    "    outputPath = './output/'\n",
    "    if not os.path.exists(outputPath):\n",
    "        os.makedirs(outputPath)\n",
    "    im = Image.fromarray(b.astype('uint8'))    \n",
    "    im.save('output/'+keyword+'.jpg')\n",
    "    print('save image'+keyword)"
   ]
  },
  {
   "cell_type": "code",
   "execution_count": null,
   "metadata": {},
   "outputs": [],
   "source": [
    "# 漫画内容\n",
    "def generateStoryboard(keywords,title):\n",
    "    storyboard = Image.new('L',(2500,3500),'white')\n",
    "    idraw = ImageDraw.Draw(storyboard)\n",
    "\n",
    "    # add title\n",
    "    idraw.polygon([(180,125),(1281,125),(1200,1088),(180,1000),(180,125)], fill='black')\n",
    "    myfont = ImageFont.truetype('font.TTF', 150)\n",
    "    idraw.text((300,300), title,font=myfont, fill='white')\n",
    "\n",
    "    # add image\n",
    "    pboard = storyboard.load()\n",
    "    for i in range(0,len(keywords)):\n",
    "        url = 'output/'+keywords[i]+'.jpg'\n",
    "        im = Image.open(url)\n",
    "        # change size\n",
    "        im = im.resize((1300,1300),Image.ANTIALIAS)\n",
    "        pim = im.load()\n",
    "        if i==0:\n",
    "            for i in range(1051):\n",
    "                for j in range(1032):\n",
    "                    pboard[i+1299,j+125] = pim[i,j]\n",
    "            print(\"finish 0\")\n",
    "        if i==1:\n",
    "            for i in range(1100):\n",
    "                for j in range(1251):\n",
    "                    pboard[i+180,j+1110] = pim[i,j]\n",
    "            print(\"finish 1\")\n",
    "        if i==2:\n",
    "            for i in range(1056):\n",
    "                for j in range(1068):\n",
    "                    pboard[i+1294,j+1200] = pim[i,j]\n",
    "            print(\"finish 2\")\n",
    "        if i==3:\n",
    "            for i in range(1103):\n",
    "                for j in range(1052):\n",
    "                    pboard[i+180,j+2259] = pim[i,j]\n",
    "            print(\"finish 3\")\n",
    "        if i==4:\n",
    "            for i in range(1050):\n",
    "                for j in range(1059):\n",
    "                    pboard[i+1300,j+2252] = pim[i,j]\n",
    "            print(\"finish 4\")\n",
    "    \n",
    "    # add storyboard\n",
    "    idraw = ImageDraw.Draw(storyboard)\n",
    "    idraw.polygon((180,1000,1200,1088,1299,1094,2350,1157,2350,1267,1294,1200,1200,1185,180,1110),fill='white')\n",
    "    idraw.polygon((180,2361,1280,2153,1373,2169,2350,2268,2350,2389,1380,2252,1283,2259,180,2471),fill='white')\n",
    "    idraw.polygon((1281,125,1383,125,1299,1094,1294,1200,1373,2169,1380,2252,1300,3311,1200,3311,1283,2259,1280,2153,1200,1185,1200,1088),fill='white')\n",
    "\n",
    "    idraw.line((1383,125,2350,125,2350,1157,1299,1094,1383,125),fill='black',width=10)\n",
    "    idraw.line((180,1110,1200,1185,1280,2153,180,2361,180,1110),fill='black',width=10)\n",
    "    idraw.line((1294,1200,2350,1267,2350,2268,1373,2169,1294,1200),fill='black',width=10)\n",
    "    idraw.line((180,2471,1283,2259,1200,3311,180,3311,180,2471),fill='black',width=10)\n",
    "    idraw.line((1380,2252,2350,2389,2350,3311,1300,3311,1380,2252),fill='black',width=10)\n",
    "    storyboard.show()\n",
    "    storyboard.save('output.jpg')"
   ]
  },
  {
   "cell_type": "code",
   "execution_count": null,
   "metadata": {
    "tags": []
   },
   "outputs": [],
   "source": [
    "if __name__ == '__main__':\n",
    "    inputword = '昨日，江西九江市永修县三角联圩新建区大塘坪乡防汛责任段溃堤，洪水大量涌入，5.036万亩耕地、2.6万群众受到威胁。江西消防总队迅速调派救援人员，截至今天10时，成功救援被困群众1000人，疏散被困群众2000人。'\n",
    "    title = '洪水'\n",
    "    keywords = getKeyword(inputword)\n",
    "    for keyword in keywords:\n",
    "        url = getPage(keyword)\n",
    "        imgURL = get_onepage_urls(url)\n",
    "        getImg(imgURL,keyword)\n",
    "        changeStyle(keyword)\n",
    "    generateStoryboard(keywords,title)\n"
   ]
  },
  {
   "cell_type": "code",
   "execution_count": null,
   "metadata": {},
   "outputs": [],
   "source": []
  }
 ],
 "metadata": {
  "language_info": {
   "codemirror_mode": {
    "name": "ipython",
    "version": 3
   },
   "file_extension": ".py",
   "mimetype": "text/x-python",
   "name": "python",
   "nbconvert_exporter": "python",
   "pygments_lexer": "ipython3",
   "version": 3
  },
  "orig_nbformat": 2,
  "kernelspec": {
   "name": "python_defaultSpec_1594619219807",
   "display_name": "Python 3.7.6 64-bit ('base': conda)"
  }
 },
 "nbformat": 4,
 "nbformat_minor": 2
}